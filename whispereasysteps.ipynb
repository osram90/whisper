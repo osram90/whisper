{
  "cells": [
    {
      "cell_type": "markdown",
      "metadata": {
        "id": "view-in-github",
        "colab_type": "text"
      },
      "source": [
        "<a href=\"https://colab.research.google.com/github/osram90/whisper/blob/main/whispereasysteps.ipynb\" target=\"_parent\"><img src=\"https://colab.research.google.com/assets/colab-badge.svg\" alt=\"Open In Colab\"/></a>"
      ]
    },
    {
      "cell_type": "markdown",
      "source": [
        "<font size=64px>Whisper </font>\n",
        "\n",
        "Whisper is an exciting new model for automatic speech recognition (ASR) developed by OpenAI. There are a few potential pitfalls to installing it on a local machine, so speech recognition experts at [Deepgram](https://deepgram-blog.ghost.io/ghost/#/editor/post/63374e260072bc003d64fd6a) have put together this Colab notebook. Our goal is to make it super easy for everybody to see what Whisper can do!"
      ],
      "metadata": {
        "id": "9qzwD9ts4_kc"
      }
    },
    {
      "cell_type": "markdown",
      "source": [
        "In the first line we install Whisper!"
      ],
      "metadata": {
        "id": "V1QHcVQz4Gu7"
      }
    },
    {
      "cell_type": "code",
      "execution_count": null,
      "metadata": {
        "id": "HOvKw2K3kWqK"
      },
      "outputs": [],
      "source": [
        "!pip install git+https://github.com/openai/whisper.git"
      ]
    },
    {
      "cell_type": "code",
      "source": [
        "!sudo apt-get install ffmpeg"
      ],
      "metadata": {
        "id": "eQs_J9Hj9TDV"
      },
      "execution_count": null,
      "outputs": []
    },
    {
      "cell_type": "code",
      "source": [
        "# prompt: give me the code to upload any audio file give it a name (include the extension)\n",
        "\n",
        "from google.colab import files\n",
        "\n",
        "uploaded = files.upload()\n",
        "\n",
        "for fn in uploaded.keys():\n",
        "  print('User uploaded file \"{name}\" with length {length} bytes'.format(\n",
        "      name=fn, length=len(uploaded[fn])))\n",
        "\n",
        "  # Name the uploaded audio file\n",
        "  filename = \"uploaded_audio.mp3\"  # Replace with your desired filename\n",
        "\n",
        "  # Write the uploaded file to disk\n",
        "  with open(filename, \"wb\") as f:\n",
        "    f.write(uploaded[fn])\n"
      ],
      "metadata": {
        "id": "jrP-1pmy77iy"
      },
      "execution_count": null,
      "outputs": []
    },
    {
      "cell_type": "code",
      "source": [
        "# Play the audio file\n",
        "print(fn)\n",
        "Audio(fn)\n",
        "\n"
      ],
      "metadata": {
        "id": "xt5Ji_aE-LQq"
      },
      "execution_count": null,
      "outputs": []
    },
    {
      "cell_type": "code",
      "source": [
        "import whisper\n",
        "\n",
        "model = whisper.load_model(\"base\")\n",
        "result = model.transcribe(\"uploaded_audio.mp3\")\n",
        "print(result[\"text\"])"
      ],
      "metadata": {
        "id": "Hy-3eWdu87_i"
      },
      "execution_count": null,
      "outputs": []
    },
    {
      "source": [
        "model = whisper.load_model(\"base\")\n",
        "\n",
        "# load audio and pad/trim it to fit 30 seconds\n",
        "audio = whisper.load_audio(\"Audio de WhatsApp 2023-09-24 a las 18.49.00.waptt.mp3\")\n",
        "audio = whisper.pad_or_trim(audio)\n",
        "\n",
        "# make log-Mel spectrogram and move to the same device as the model\n",
        "mel = whisper.log_mel_spectrogram(audio).to(model.device)\n",
        "\n",
        "# detect the spoken language\n",
        "_, probs = model.detect_language(mel)\n",
        "print(f\"Detected language: {max(probs, key=probs.get)}\")\n",
        "\n",
        "# decode the audio\n",
        "options = whisper.DecodingOptions()\n",
        "result = whisper.decode(model, mel, options)\n",
        "\n",
        "# print the recognized text\n",
        "print(result.text)"
      ],
      "cell_type": "code",
      "metadata": {
        "id": "s5OrDOwG9KI-"
      },
      "execution_count": null,
      "outputs": []
    }
  ],
  "metadata": {
    "colab": {
      "provenance": [],
      "private_outputs": true,
      "include_colab_link": true
    },
    "kernelspec": {
      "display_name": "Python 3",
      "name": "python3"
    },
    "language_info": {
      "name": "python"
    },
    "accelerator": "GPU"
  },
  "nbformat": 4,
  "nbformat_minor": 0
}