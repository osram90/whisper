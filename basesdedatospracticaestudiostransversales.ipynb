{
  "nbformat": 4,
  "nbformat_minor": 0,
  "metadata": {
    "colab": {
      "provenance": [],
      "authorship_tag": "ABX9TyPOpHyORh5h0HrWWf5moJS6",
      "include_colab_link": true
    },
    "kernelspec": {
      "name": "python3",
      "display_name": "Python 3"
    },
    "language_info": {
      "name": "python"
    }
  },
  "cells": [
    {
      "cell_type": "markdown",
      "metadata": {
        "id": "view-in-github",
        "colab_type": "text"
      },
      "source": [
        "<a href=\"https://colab.research.google.com/github/osram90/whisper/blob/main/basesdedatospracticaestudiostransversales.ipynb\" target=\"_parent\"><img src=\"https://colab.research.google.com/assets/colab-badge.svg\" alt=\"Open In Colab\"/></a>"
      ]
    },
    {
      "cell_type": "markdown",
      "source": [
        "# **HOLA MUNDO**\n",
        "\n",
        "## Bienvenido, esto es google colab. Aquí también es genial 😊"
      ],
      "metadata": {
        "id": "SnfRX9DD1kk9"
      }
    },
    {
      "cell_type": "markdown",
      "source": [
        "## **BASE DE DATOS PARA PRACTICA ESTUDIOS TRANSVERSALES**\n",
        "\n",
        "# DAR CLICK EN EL BOTÓN DE RUN O EN EL [1] ABAJO EN BLOQUE DE CODIGO Y SE CREARÁ LA BASE DE DATOS CON LA QUE VAMOS A TRABAJAR EN LA PRÁCTICA"
      ],
      "metadata": {
        "id": "jwPP9R701D3Z"
      }
    },
    {
      "cell_type": "code",
      "execution_count": null,
      "metadata": {
        "colab": {
          "base_uri": "https://localhost:8080/"
        },
        "id": "DVDCuhJ70wTL",
        "outputId": "c7066427-6240-4aa2-a231-440b74abad53"
      },
      "outputs": [
        {
          "output_type": "display_data",
          "data": {
            "text/plain": [
              "<IPython.core.display.Javascript object>"
            ],
            "application/javascript": [
              "\n",
              "    async function download(id, filename, size) {\n",
              "      if (!google.colab.kernel.accessAllowed) {\n",
              "        return;\n",
              "      }\n",
              "      const div = document.createElement('div');\n",
              "      const label = document.createElement('label');\n",
              "      label.textContent = `Downloading \"${filename}\": `;\n",
              "      div.appendChild(label);\n",
              "      const progress = document.createElement('progress');\n",
              "      progress.max = size;\n",
              "      div.appendChild(progress);\n",
              "      document.body.appendChild(div);\n",
              "\n",
              "      const buffers = [];\n",
              "      let downloaded = 0;\n",
              "\n",
              "      const channel = await google.colab.kernel.comms.open(id);\n",
              "      // Send a message to notify the kernel that we're ready.\n",
              "      channel.send({})\n",
              "\n",
              "      for await (const message of channel.messages) {\n",
              "        // Send a message to notify the kernel that we're ready.\n",
              "        channel.send({})\n",
              "        if (message.buffers) {\n",
              "          for (const buffer of message.buffers) {\n",
              "            buffers.push(buffer);\n",
              "            downloaded += buffer.byteLength;\n",
              "            progress.value = downloaded;\n",
              "          }\n",
              "        }\n",
              "      }\n",
              "      const blob = new Blob(buffers, {type: 'application/binary'});\n",
              "      const a = document.createElement('a');\n",
              "      a.href = window.URL.createObjectURL(blob);\n",
              "      a.download = filename;\n",
              "      div.appendChild(a);\n",
              "      a.click();\n",
              "      div.remove();\n",
              "    }\n",
              "  "
            ]
          },
          "metadata": {}
        },
        {
          "output_type": "display_data",
          "data": {
            "text/plain": [
              "<IPython.core.display.Javascript object>"
            ],
            "application/javascript": [
              "download(\"download_8544ffe3-eeb3-4616-a8ed-4101077fcbfc\", \"estudio_transversal_epidemiologia.xlsx\", 12835)"
            ]
          },
          "metadata": {}
        }
      ],
      "source": [
        "# Importar librerías necesarias\n",
        "import pandas as pd\n",
        "import numpy as np\n",
        "\n",
        "# Crear un DataFrame simulando un estudio transversal con n = 120\n",
        "np.random.seed(42)  # Fijar semilla para reproducibilidad\n",
        "\n",
        "n = 120\n",
        "\n",
        "# Generar variables demográficas y clínicas\n",
        "data = {\n",
        "    \"ID\": range(1, n + 1),\n",
        "    \"Edad\": np.random.randint(18, 80, size=n),  # Edad entre 18 y 80 años\n",
        "    \"Sexo\": np.random.choice([\"Masculino\", \"Femenino\"], size=n),\n",
        "    \"Peso (kg)\": np.round(np.random.normal(70, 12, size=n), 1),  # Peso promedio 70 kg\n",
        "    \"Altura (cm)\": np.round(np.random.normal(170, 10, size=n), 1),  # Altura promedio 170 cm\n",
        "    \"IMC\": np.round(np.random.uniform(18.5, 40, size=n), 1),  # IMC entre 18.5 y 40\n",
        "    \"Fumador\": np.random.choice([\"Sí\", \"No\"], size=n, p=[0.3, 0.7]),\n",
        "    \"Hipertensión\": np.random.choice([\"Sí\", \"No\"], size=n, p=[0.25, 0.75]),\n",
        "    \"Diabetes\": np.random.choice([\"Sí\", \"No\"], size=n, p=[0.15, 0.85]),\n",
        "    \"Nivel de Colesterol (mg/dL)\": np.round(np.random.normal(200, 30, size=n), 1),\n",
        "    \"Nivel de Glucosa (mg/dL)\": np.round(np.random.normal(100, 15, size=n), 1),\n",
        "    \"Actividad Física (min/semana)\": np.random.randint(0, 300, size=n),  # Minutos de actividad física semanal\n",
        "    \"Nivel Educativo\": np.random.choice([\"Primaria\", \"Secundaria\", \"Universitario\"], size=n, p=[0.2, 0.4, 0.4]),\n",
        "}\n",
        "\n",
        "# Convertir a DataFrame\n",
        "df = pd.DataFrame(data)\n",
        "\n",
        "# Guardar el archivo Excel\n",
        "output_path = \"estudio_transversal_epidemiologia.xlsx\"\n",
        "df.to_excel(output_path, index=False)\n",
        "\n",
        "# Descargar el archivo en Google Colab\n",
        "from google.colab import files\n",
        "files.download(output_path)\n"
      ]
    },
    {
      "cell_type": "markdown",
      "source": [
        "# Base de datos con errores intencionado, para practicar limpieza ☣ de datos **💻**"
      ],
      "metadata": {
        "id": "t-w4-2DH2L-o"
      }
    },
    {
      "cell_type": "code",
      "source": [
        "# Importar librerías necesarias\n",
        "import pandas as pd\n",
        "import numpy as np\n",
        "\n",
        "# Crear un DataFrame simulando un estudio transversal con n = 120\n",
        "np.random.seed(42)  # Fijar semilla para reproducibilidad\n",
        "\n",
        "n = 120\n",
        "\n",
        "# Generar variables demográficas y clínicas con errores intencionados\n",
        "data = {\n",
        "    \"Id\": range(1, n + 1),  # Nombre de variable con minúscula\n",
        "    \" EDAD \": np.random.randint(18, 80, size=n),  # Espacios intencionados en el nombre\n",
        "    \"sexo\": np.random.choice([\"MASCULINO\", \"femenino\", \"Masculino\", \"FEMENINO\"], size=n),  # Variación de mayúsculas/minúsculas\n",
        "    \"Peso (kg)\": np.round(np.random.normal(70, 12, size=n), 1),\n",
        "    \" Altura en cm \": np.round(np.random.normal(170, 10, size=n), 1),  # Espacios adicionales\n",
        "    \"IMC\": np.round(np.random.uniform(18.5, 40, size=n), 1),\n",
        "    \"fumador\": np.random.choice([\"sí\", \"No\", \"SÍ\", \"no\"], size=n, p=[0.3, 0.5, 0.1, 0.1]),  # Ajuste de probabilidades\n",
        "    \"Hipertensión\": np.random.choice([\"sí \", \" NO \", \"Si\", \" no \"], size=n, p=[0.25, 0.5, 0.2, 0.05]),  # Ajuste de probabilidades\n",
        "    \"diabetes\": np.random.choice([\"Sí\", \"No\", \"si\", \"NO\"], size=n, p=[0.3, 0.5, 0.1, 0.1]),  # Ajuste de probabilidades\n",
        "    \"nivel Colesterol\": np.round(np.random.normal(200, 30, size=n), 1),  # Nombre con espacio y minúscula\n",
        "    \"nivel de glucosa \": np.round(np.random.normal(100, 15, size=n), 1),  # Nombre con espacio al final\n",
        "    \"actividad_Física_min/semana\": np.random.randint(0, 300, size=n),  # Uso de guión bajo\n",
        "    \" Nivel Educativo \": np.random.choice([\" primaria \", \"Secundaria \", \" UNIVERSITARIO \"], size=n, p=[0.2, 0.4, 0.4]),  # Espacios y mayúsculas inconsistentes\n",
        "}\n",
        "\n",
        "# Convertir a DataFrame\n",
        "df = pd.DataFrame(data)\n",
        "\n",
        "# Guardar el archivo Excel\n",
        "output_path = \"estudio_transversal_epidemiologia_errores.xlsx\"\n",
        "df.to_excel(output_path, index=False)\n",
        "\n",
        "# Descargar el archivo en Google Colab\n",
        "from google.colab import files\n",
        "files.download(output_path)\n",
        "\n"
      ],
      "metadata": {
        "colab": {
          "base_uri": "https://localhost:8080/",
          "height": 17
        },
        "id": "Y6l8GwkV2dss",
        "outputId": "a65af0fd-66e8-40b9-93c5-2f5143f3d5ab"
      },
      "execution_count": null,
      "outputs": [
        {
          "output_type": "display_data",
          "data": {
            "text/plain": [
              "<IPython.core.display.Javascript object>"
            ],
            "application/javascript": [
              "\n",
              "    async function download(id, filename, size) {\n",
              "      if (!google.colab.kernel.accessAllowed) {\n",
              "        return;\n",
              "      }\n",
              "      const div = document.createElement('div');\n",
              "      const label = document.createElement('label');\n",
              "      label.textContent = `Downloading \"${filename}\": `;\n",
              "      div.appendChild(label);\n",
              "      const progress = document.createElement('progress');\n",
              "      progress.max = size;\n",
              "      div.appendChild(progress);\n",
              "      document.body.appendChild(div);\n",
              "\n",
              "      const buffers = [];\n",
              "      let downloaded = 0;\n",
              "\n",
              "      const channel = await google.colab.kernel.comms.open(id);\n",
              "      // Send a message to notify the kernel that we're ready.\n",
              "      channel.send({})\n",
              "\n",
              "      for await (const message of channel.messages) {\n",
              "        // Send a message to notify the kernel that we're ready.\n",
              "        channel.send({})\n",
              "        if (message.buffers) {\n",
              "          for (const buffer of message.buffers) {\n",
              "            buffers.push(buffer);\n",
              "            downloaded += buffer.byteLength;\n",
              "            progress.value = downloaded;\n",
              "          }\n",
              "        }\n",
              "      }\n",
              "      const blob = new Blob(buffers, {type: 'application/binary'});\n",
              "      const a = document.createElement('a');\n",
              "      a.href = window.URL.createObjectURL(blob);\n",
              "      a.download = filename;\n",
              "      div.appendChild(a);\n",
              "      a.click();\n",
              "      div.remove();\n",
              "    }\n",
              "  "
            ]
          },
          "metadata": {}
        },
        {
          "output_type": "display_data",
          "data": {
            "text/plain": [
              "<IPython.core.display.Javascript object>"
            ],
            "application/javascript": [
              "download(\"download_5e0d3586-e9a5-43d8-a249-11c152f2bf6c\", \"estudio_transversal_epidemiologia_errores.xlsx\", 13268)"
            ]
          },
          "metadata": {}
        }
      ]
    },
    {
      "cell_type": "markdown",
      "source": [
        "## BASE DE DATOS CASOS Y CONTROLES"
      ],
      "metadata": {
        "id": "OGjd86As_RFE"
      }
    },
    {
      "cell_type": "code",
      "source": [
        "# Importar librerías necesarias\n",
        "import pandas as pd\n",
        "import numpy as np\n",
        "\n",
        "# Semilla para reproducibilidad\n",
        "np.random.seed(123)\n",
        "\n",
        "# Tamaño de la muestra\n",
        "n_casos = 100  # Casos con diabetes\n",
        "n_controles = 100  # Controles sin diabetes\n",
        "\n",
        "# Función para generar datos con errores intencionados\n",
        "def generar_datos(n, es_caso):\n",
        "    data = {\n",
        "        \"ID\": range(1, n + 1),\n",
        "        \"Diabetes\": [\"Sí\" if es_caso else \"No\"] * n,  # Casos o controles\n",
        "        \"Edad \": np.random.randint(30, 80, size=n),  # Edad entre 30 y 80 años\n",
        "        \"sexo \": np.random.choice([\"Masculino\", \"FEMENINO\", \"masculino\", \"Femenino\"], size=n),  # Mayúsculas inconsistentes\n",
        "        \"IMC \": np.round(np.random.uniform(18.5, 40, size=n), 1),  # IMC con espacios\n",
        "        \" Hipertensión \": np.random.choice([\"sí\", \" NO \", \"Si\", \"no\"], size=n, p=[0.3, 0.3, 0.2, 0.2]),  # Valores inconsistentes\n",
        "        \"Actividad física (min/sem)\": np.random.randint(0, 300, size=n),  # Minutos de actividad física\n",
        "        \"Fumador \": np.random.choice([\"sí \", \"No\", \"SÍ\", \"no \"], size=n, p=[0.2, 0.5, 0.15, 0.15]),  # Espacios y mayúsculas\n",
        "        \"Nivel educativo \": np.random.choice([\"Primaria\", \"Secundaria\", \"universitario\"], size=n, p=[0.3, 0.4, 0.3]),  # Minúsculas en parte\n",
        "    }\n",
        "    return pd.DataFrame(data)\n",
        "\n",
        "# Generar casos y controles\n",
        "casos = generar_datos(n_casos, es_caso=True)\n",
        "controles = generar_datos(n_controles, es_caso=False)\n",
        "\n",
        "# Combinar ambos grupos\n",
        "datos_casos_controles = pd.concat([casos, controles], ignore_index=True)\n",
        "\n",
        "# Guardar en un archivo Excel\n",
        "output_path = \"estudio_casos_controles_errores.xlsx\"\n",
        "datos_casos_controles.to_excel(output_path, index=False)\n",
        "\n",
        "# Descargar archivo en Google Colab\n",
        "from google.colab import files\n",
        "files.download(output_path)\n"
      ],
      "metadata": {
        "colab": {
          "base_uri": "https://localhost:8080/"
        },
        "id": "MD-8IZ9x_VW8",
        "outputId": "9ceb881f-72e4-480f-d70d-983543982ff0"
      },
      "execution_count": null,
      "outputs": [
        {
          "output_type": "display_data",
          "data": {
            "text/plain": [
              "<IPython.core.display.Javascript object>"
            ],
            "application/javascript": [
              "\n",
              "    async function download(id, filename, size) {\n",
              "      if (!google.colab.kernel.accessAllowed) {\n",
              "        return;\n",
              "      }\n",
              "      const div = document.createElement('div');\n",
              "      const label = document.createElement('label');\n",
              "      label.textContent = `Downloading \"${filename}\": `;\n",
              "      div.appendChild(label);\n",
              "      const progress = document.createElement('progress');\n",
              "      progress.max = size;\n",
              "      div.appendChild(progress);\n",
              "      document.body.appendChild(div);\n",
              "\n",
              "      const buffers = [];\n",
              "      let downloaded = 0;\n",
              "\n",
              "      const channel = await google.colab.kernel.comms.open(id);\n",
              "      // Send a message to notify the kernel that we're ready.\n",
              "      channel.send({})\n",
              "\n",
              "      for await (const message of channel.messages) {\n",
              "        // Send a message to notify the kernel that we're ready.\n",
              "        channel.send({})\n",
              "        if (message.buffers) {\n",
              "          for (const buffer of message.buffers) {\n",
              "            buffers.push(buffer);\n",
              "            downloaded += buffer.byteLength;\n",
              "            progress.value = downloaded;\n",
              "          }\n",
              "        }\n",
              "      }\n",
              "      const blob = new Blob(buffers, {type: 'application/binary'});\n",
              "      const a = document.createElement('a');\n",
              "      a.href = window.URL.createObjectURL(blob);\n",
              "      a.download = filename;\n",
              "      div.appendChild(a);\n",
              "      a.click();\n",
              "      div.remove();\n",
              "    }\n",
              "  "
            ]
          },
          "metadata": {}
        },
        {
          "output_type": "display_data",
          "data": {
            "text/plain": [
              "<IPython.core.display.Javascript object>"
            ],
            "application/javascript": [
              "download(\"download_db2833cf-4f63-41b9-925a-08136b5a3822\", \"estudio_casos_controles_errores.xlsx\", 13673)"
            ]
          },
          "metadata": {}
        }
      ]
    }
  ]
}